{
 "cells": [
  {
   "cell_type": "markdown",
   "metadata": {},
   "source": [
    "# Undersøk korpus med metadata og konkordans\n",
    "\n",
    "Konkordanser gir oppslagt for nøkkelord i en kontekst, også kjent under akronymet [KWIC](https://en.wikipedia.org/wiki/Key_Word_in_Context). Kommandoene som benyttes er get_konk (eller nb.get_konk), og ligger klar i modulen nbtext.\n",
    "\n",
    "Gjør API-et aktivt ved å kjøre cellen under."
   ]
  },
  {
   "cell_type": "code",
   "execution_count": 4,
   "metadata": {},
   "outputs": [],
   "source": [
    "import nbtext as nb\n",
    "from nbtext import get_konk, get_urnkonk, urn_from_text\n",
    "%matplotlib inline"
   ]
  },
  {
   "cell_type": "markdown",
   "metadata": {},
   "source": [
    "## Konkordanser\n",
    "\n",
    "Det minste som må spesifiseres for kommandoen *get_konk()* er et ord."
   ]
  },
  {
   "cell_type": "code",
   "execution_count": 5,
   "metadata": {},
   "outputs": [
    {
     "data": {
      "text/html": [
       "<table><tr>\n",
       "                <td>\n",
       "                    <a href='http://www.nb.no/items/URN:NBN:no-nb_digibok_2009101300118' target='_'>Rivenæs, Ulf,Evaluering av energiplan for A/S Gjermå energiverk,1991</a>\n",
       "                    <td>og vedtak av energiplanen ,</td>\n",
       "                    <td>arbeid</td>\n",
       "                    <td style='text-align:left'>frem mot ferdig trykket plandokument</td>\n",
       "                    </tr>\n",
       "<tr>\n",
       "                <td>\n",
       "                    <a href='http://www.nb.no/items/URN:NBN:no-nb_digibok_2009101300118' target='_'>Rivenæs, Ulf,Evaluering av energiplan for A/S Gjermå energiverk,1991</a>\n",
       "                    <td>og et perspektiv på det</td>\n",
       "                    <td>arbeid</td>\n",
       "                    <td style='text-align:left'>det utfører . Den skal</td>\n",
       "                    </tr>\n",
       "<tr>\n",
       "                <td>\n",
       "                    <a href='http://www.nb.no/items/URN:NBN:no-nb_digibok_2009101300118' target='_'>Rivenæs, Ulf,Evaluering av energiplan for A/S Gjermå energiverk,1991</a>\n",
       "                    <td>Hva detteforhold vil innebære av</td>\n",
       "                    <td>arbeid</td>\n",
       "                    <td style='text-align:left'>og nytte bør kort beskrives</td>\n",
       "                    </tr>\n",
       "<tr>\n",
       "                <td>\n",
       "                    <a href='http://www.nb.no/items/URN:NBN:no-nb_digibok_2008070201025' target='_'>Nielsen, Finn Sivert,Samfunnsordninger og samfunnsmoral,1989</a>\n",
       "                    <td>Her er det investert generasjoners</td>\n",
       "                    <td>arbeid</td>\n",
       "                    <td style='text-align:left'>i opparbeidelse av risterrasser og</td>\n",
       "                    </tr>\n",
       "<tr>\n",
       "                <td>\n",
       "                    <a href='http://www.nb.no/items/URN:NBN:no-nb_digibok_2008070201025' target='_'>Nielsen, Finn Sivert,Samfunnsordninger og samfunnsmoral,1989</a>\n",
       "                    <td>enn som lønn for utført</td>\n",
       "                    <td>arbeid</td>\n",
       "                    <td style='text-align:left'>. Istedenfor skal verdien reinvesteres</td>\n",
       "                    </tr>\n",
       "<tr>\n",
       "                <td>\n",
       "                    <a href='http://www.nb.no/items/URN:NBN:no-nb_digibok_2008070201025' target='_'>Nielsen, Finn Sivert,Samfunnsordninger og samfunnsmoral,1989</a>\n",
       "                    <td>som samfunnet definerer som \"</td>\n",
       "                    <td>arbeid</td>\n",
       "                    <td style='text-align:left'>\" . Samtidig bindes man</td>\n",
       "                    </tr>\n",
       "<tr>\n",
       "                <td>\n",
       "                    <a href='http://www.nb.no/items/URN:NBN:no-nb_digibok_2008070201025' target='_'>Nielsen, Finn Sivert,Samfunnsordninger og samfunnsmoral,1989</a>\n",
       "                    <td>aktiviteter som godtas som \"</td>\n",
       "                    <td>arbeid</td>\n",
       "                    <td style='text-align:left'>\" . Gruppens krav til</td>\n",
       "                    </tr>\n",
       "<tr>\n",
       "                <td>\n",
       "                    <a href='http://www.nb.no/items/URN:NBN:no-nb_digibok_2008112500034' target='_'>,Máŋggabealatvuohta ja ovttadássásašvuohta,2001</a>\n",
       "                    <td>en slik plan . Utvalgets</td>\n",
       "                    <td>arbeid</td>\n",
       "                    <td style='text-align:left'>ble framlagt 16.02.95 som NOU</td>\n",
       "                    </tr>\n",
       "<tr>\n",
       "                <td>\n",
       "                    <a href='http://www.nb.no/items/URN:NBN:no-nb_digibok_2008112500034' target='_'>,Máŋggabealatvuohta ja ovttadássásašvuohta,2001</a>\n",
       "                    <td>som et verktøy for langsiktig</td>\n",
       "                    <td>arbeid</td>\n",
       "                    <td style='text-align:left'>med tiltak for den samiske</td>\n",
       "                    </tr>\n",
       "<tr>\n",
       "                <td>\n",
       "                    <a href='http://www.nb.no/items/URN:NBN:no-nb_digibok_2008112500034' target='_'>,Máŋggabealatvuohta ja ovttadássásašvuohta,2001</a>\n",
       "                    <td>og sosialsektoren av hva tolkenes</td>\n",
       "                    <td>arbeid</td>\n",
       "                    <td style='text-align:left'>skal gå ut på .</td>\n",
       "                    </tr>\n",
       "<tr>\n",
       "                <td>\n",
       "                    <a href='http://www.nb.no/items/URN:NBN:no-nb_digibok_2008112500034' target='_'>,Máŋggabealatvuohta ja ovttadássásašvuohta,2001</a>\n",
       "                    <td>å drive helsefremmende og forebyggende</td>\n",
       "                    <td>arbeid</td>\n",
       "                    <td style='text-align:left'>overfor hele barne- og ungdomsbefolkningen</td>\n",
       "                    </tr>\n",
       "<tr>\n",
       "                <td>\n",
       "                    <a href='http://www.nb.no/items/URN:NBN:no-nb_digibok_2014042305029' target='_'>,Tungtransport i Groruddalen,2009</a>\n",
       "                    <td>i 2009 , med oppfølgende</td>\n",
       "                    <td>arbeid</td>\n",
       "                    <td style='text-align:left'>med konsekvensutredning og reguleringsplaner i</td>\n",
       "                    </tr>\n",
       "</table>"
      ],
      "text/plain": [
       "<IPython.core.display.HTML object>"
      ]
     },
     "execution_count": 5,
     "metadata": {},
     "output_type": "execute_result"
    }
   ],
   "source": [
    "get_konk('arbeid')"
   ]
  },
  {
   "cell_type": "markdown",
   "metadata": {},
   "source": [
    "Kommandoen *get_konk()* tar parametre for å begrense søket - noen er satt opp med defaultverdier. Parametrene er en måte spesifisere et korpus på, men se nedenfor for andre måter å gjøre akkurat det på."
   ]
  },
  {
   "cell_type": "code",
   "execution_count": null,
   "metadata": {},
   "outputs": [],
   "source": [
    "get_konk('arbeid', {'size':10, 'corpus':'bok', 'before':8, 'after':8, 'author':'hamsun%'})"
   ]
  },
  {
   "cell_type": "markdown",
   "metadata": {},
   "source": [
    "### Samme konk mot aviser  (kan ta litt tid)"
   ]
  },
  {
   "cell_type": "markdown",
   "metadata": {},
   "source": [
    "Bøker og aviser deler litt på egenskaper. Foruten årstall vil for eksempel 'title' gjøre begrensing på boktitler for bøker, og avisnavn for aviser. Årstall begrenser utgivelsesår."
   ]
  },
  {
   "cell_type": "code",
   "execution_count": null,
   "metadata": {},
   "outputs": [],
   "source": [
    "get_konk('arbeid', {'size':5, 'title':'aftenposten','corpus':'avis', 'yearfrom':1950, 'yearto':1955})"
   ]
  },
  {
   "cell_type": "markdown",
   "metadata": {},
   "source": [
    "## Bygg et korpus av bøker\n",
    "\n",
    "Får å bygge et korpus av bøker (aviser er i kjømda) brukes kommandoen *get_urn()* med nesten de samme parametrene som for *get_konk()*.\n",
    "\n",
    "Man kan også finne URN-er i bokhylla, eller lage en liste med URN-er i en tekstfil og bruke kommandoen *urn_from_text()*. Se nedenfor."
   ]
  },
  {
   "cell_type": "markdown",
   "metadata": {},
   "source": [
    "#### get_urn()\n",
    "\n",
    "Kommandoen *get_urn()* gir et tilfeldig utvalg bøker innenfor spesifikasjonene.\n",
    "Aktiver cellen under et par ganger for å se effekten."
   ]
  },
  {
   "cell_type": "code",
   "execution_count": 18,
   "metadata": {},
   "outputs": [
    {
     "data": {
      "text/plain": [
       "[[2006110701010, 'Brink, André', 'Gribbenes land', 1977],\n",
       " [2012020206000, 'Brink, André', 'Ambassadøren', 1986],\n",
       " [2012061305017, 'Leroux, Etienne', 'Syv dager hos Silbersteins', 1980],\n",
       " [2016101948009, 'Muchoku, Stephano', 'Medisinmann til kristen', 1958],\n",
       " [2012111906017, 'Brink, André', 'Utsikt til regn', 1982],\n",
       " [2015043007524, 'Brink, André', 'Pestens mur', 1984],\n",
       " [2008021800104, 'Venter, Frans', 'Simon fra Kyrene', 1995],\n",
       " [2007111900139, 'Van Heerden, Etienne', 'Det forheksede fjellet', 1993],\n",
       " [2012022008024, 'Van der Post, Jan J.', 'Agarob', 1972]]"
      ]
     },
     "execution_count": 18,
     "metadata": {},
     "output_type": "execute_result"
    }
   ],
   "source": [
    "nb.get_urn({'trans':'afr'})"
   ]
  },
  {
   "cell_type": "markdown",
   "metadata": {},
   "source": [
    "### Med kriterier\n",
    "\n",
    "Vanligvis vil vi begrense korpuset til et helt spesifikt sett av bøker. Kriteriene er de vanlige som forfatter, tittel og år, i tillegg kommer kjønn (gender), tema (subject) og Dewey (ddk).\n",
    "\n",
    "Her settes dataene opp på formen\n",
    "\n",
    "    navn = definisjon\n",
    "    navn\n",
    "\n",
    "Første linje definerer navnet, andre viser innholdet. Husk å endre *navn* når cellene kopieres!"
   ]
  },
  {
   "cell_type": "code",
   "execution_count": null,
   "metadata": {},
   "outputs": [],
   "source": [
    "krig = nb.get_urn({'gender':'f', 'subject':'krig', 'ddk':'9%', 'year':1950, 'next':50, 'limit':30})\n",
    "krig"
   ]
  },
  {
   "cell_type": "code",
   "execution_count": null,
   "metadata": {},
   "outputs": [],
   "source": [
    "finnmark = nb.get_urn({'gender':'%', 'subject':'finnmark', 'lang':'nob', 'year':1950, 'next':50,'limit':5})\n",
    "finnmark"
   ]
  },
  {
   "cell_type": "code",
   "execution_count": null,
   "metadata": {},
   "outputs": [],
   "source": [
    "trønder = nb.get_urn({'gender':'f', 'subject':'trondheim', 'ddk':'9%', 'year':1950, 'next':50,'limit':30})\n",
    "trønder"
   ]
  },
  {
   "cell_type": "markdown",
   "metadata": {},
   "source": [
    "## Konkordanser med URNer\n",
    "\n",
    "Kommandoen er *get_urnkonk()* som bruker URNer i stedet for metadata."
   ]
  },
  {
   "cell_type": "code",
   "execution_count": null,
   "metadata": {},
   "outputs": [],
   "source": [
    "get_urnkonk('soldater', {'urns':krig, 'before':8, 'after':8, 'size':14}, html=True)"
   ]
  },
  {
   "cell_type": "markdown",
   "metadata": {},
   "source": [
    "## URNer fra Bokhylla\n",
    "\n",
    "Gåt til http://nb.no/search og søk etter bøker. I søkefeltet legger du til ordet 'debugon' - da kommer resultatene med URN-er. Kopier hele siden (f.eks. med ctrl-a) og lim det inn i cellen under mellom de triple hermetegnene.\n",
    "\n",
    "Etter at teksten (det blir gjerne en hel del) er limt inn og cellen er aktivert, vil URNene ligge i variabelen bokhylla_urn, som så kan brukes sammen med *get_urnkonk()*. \n",
    "\n",
    "Har du noen URNer liggende i en Word-fil eller lignende, kan det også limes inn."
   ]
  },
  {
   "cell_type": "code",
   "execution_count": null,
   "metadata": {},
   "outputs": [],
   "source": [
    "bokhylla_urn = \"\"\"  \"\"\"\n",
    "bokhylla_urn = urn_from_text(bokhylla_urn)\n",
    "bokhylla_urn"
   ]
  },
  {
   "cell_type": "code",
   "execution_count": null,
   "metadata": {},
   "outputs": [],
   "source": [
    "get_urnkonk('Ask',{\n",
    "    'urns':bokhylla_urn\n",
    "})"
   ]
  },
  {
   "cell_type": "code",
   "execution_count": null,
   "metadata": {},
   "outputs": [],
   "source": []
  }
 ],
 "metadata": {
  "hide_input": false,
  "kernelspec": {
   "display_name": "Python 3",
   "language": "python",
   "name": "python3"
  },
  "language_info": {
   "codemirror_mode": {
    "name": "ipython",
    "version": 3
   },
   "file_extension": ".py",
   "mimetype": "text/x-python",
   "name": "python",
   "nbconvert_exporter": "python",
   "pygments_lexer": "ipython3",
   "version": "3.6.5"
  }
 },
 "nbformat": 4,
 "nbformat_minor": 2
}
