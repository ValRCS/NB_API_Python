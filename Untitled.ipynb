{
 "cells": [
  {
   "cell_type": "code",
   "execution_count": 2,
   "metadata": {},
   "outputs": [],
   "source": [
    "import nbtext as nb"
   ]
  },
  {
   "cell_type": "code",
   "execution_count": 3,
   "metadata": {},
   "outputs": [
    {
     "data": {
      "text/plain": [
       "[[2011022308000, 'Emmy', 'Frykten vil alltid følge meg', 2000],\n",
       " [2012041208039, 'Vislie, Geirmund', 'Bidrag til norsk historie', 1915],\n",
       " [2011110908004, 'Frøholm, Gabriel', 'Med veg skal Europa samlast', 1971],\n",
       " [2009072704102,\n",
       "  'Rønning, Øystein W.',\n",
       "  'Flow cytometry in dairy industry',\n",
       "  1990],\n",
       " [2015042348131,\n",
       "  'Novsett, Rolf',\n",
       "  'Budsjett som plan og som styringsinstrument i idrettslagets arbeid',\n",
       "  1985],\n",
       " [2015061808057,\n",
       "  'Seip, Jens Arup',\n",
       "  'Lagmann og lagting i senmiddelalderen og det 16de århundre',\n",
       "  1934],\n",
       " [2015070308030, 'Vegge, Vally', 'sosiale død', 1996],\n",
       " [2014091008002, '', 'Økumenisk veiledning', 1969],\n",
       " [2011071405604, '', 'Distriktshistorie', 1979],\n",
       " [2007111200081, 'Johansen, Thor-Erik', 'Arbeidsrett', 1992]]"
      ]
     },
     "execution_count": 3,
     "metadata": {},
     "output_type": "execute_result"
    }
   ],
   "source": [
    "nb.get_urn()"
   ]
  },
  {
   "cell_type": "code",
   "execution_count": 7,
   "metadata": {
    "scrolled": true
   },
   "outputs": [
    {
     "data": {
      "text/plain": [
       "0.34677014319066374"
      ]
     },
     "execution_count": 7,
     "metadata": {},
     "output_type": "execute_result"
    }
   ],
   "source": [
    "nb.sttr(2007111200081)"
   ]
  },
  {
   "cell_type": "code",
   "execution_count": 10,
   "metadata": {},
   "outputs": [
    {
     "data": {
      "text/plain": [
       "0.2678423738320447"
      ]
     },
     "execution_count": 10,
     "metadata": {},
     "output_type": "execute_result"
    }
   ],
   "source": [
    "nb.sttr(2011110908004)"
   ]
  }
 ],
 "metadata": {
  "kernelspec": {
   "display_name": "Python 3",
   "language": "python",
   "name": "python3"
  },
  "language_info": {
   "codemirror_mode": {
    "name": "ipython",
    "version": 3
   },
   "file_extension": ".py",
   "mimetype": "text/x-python",
   "name": "python",
   "nbconvert_exporter": "python",
   "pygments_lexer": "ipython3",
   "version": "3.6.5"
  }
 },
 "nbformat": 4,
 "nbformat_minor": 2
}
